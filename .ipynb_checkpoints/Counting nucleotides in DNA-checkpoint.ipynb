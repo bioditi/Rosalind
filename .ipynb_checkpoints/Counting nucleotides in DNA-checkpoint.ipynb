{
 "cells": [
  {
   "cell_type": "code",
   "execution_count": null,
   "metadata": {},
   "outputs": [],
   "source": [
    "s = \"ACTAAAATAGCACATGCGCTGATTTAGTGACGGTAATCACAATACTCATGTAACAACCTAATTAGGGCGACATTCGGTCCTCCTTCCTTTCGGCATTTGTGGTAAACAGTCGCTTAGTAGGCGCGTAAACCGCTGTTTAACTGACAGGTGGCTCTTTGTCTTCCCCCCCCGCGGTACAGAGAAACAGTATGAAGGATTCGATGGAAACGACCCGACATATACACACGCCTCCTCCACAACATGTTCATCAACCTCAGACTGTGTAGGCAGCGCAGATCGGCGAAGTCACAGGCCTCGCACGCGTAAGTTATTAACCACCAGCCTCCAACTTCGGCTTACTTTCGTTCGACTCGTCTGTGAGAGTCCCACCTGCCATAAGGGAACAACACGTGGTTATTGTCTCGAAACTACAACGGAGCGACCAAGCGTCGACAAATGTCCGGTGGGAGCCAATCGTCTTTTGAATGAGTGAGAGGATACTCGCGGGTGACTACCTGGAGGGGAAGGTCGACTGTGTGAGTTCTACCGCTGCGACTACATATTGAGGCCTTTCGTTAGGAGGGGCGGGTGGACAAGTTTAGCACTGGAGCACCTTGAGCATCGCATAACAAAATCGCGTCTTTTTCCGGGAAACATCTTAGTTTACGCCTAGGAACCATGCAAAAACACGTTCGGGTCAGTACCTTACCGGGTCAGTGTAGAGACATTAACGGGCAGTGATCACCTTTAGAAAAAGTACAGTCGTCACCCTACATTAACTAGGGATTCCGTGGAAGCATGAGAGGACTGCCCGGGATGGTGCCTATGCGTACT\"\n",
    "a = 0\n",
    "t = 0\n",
    "c = 0\n",
    "g = 0\n",
    "for i in s:\n",
    "    if i == \"A\":\n",
    "        a = a + 1\n",
    "    elif i == \"T\":\n",
    "        t += 1\n",
    "    elif i == \"C\":\n",
    "        c += 1\n",
    "    elif i == \"G\":\n",
    "        g += 1\n",
    "print(a,c,g,t)"
   ]
  },
  {
   "cell_type": "code",
   "execution_count": null,
   "metadata": {},
   "outputs": [],
   "source": [
    "s = \"CTCATTAATGAGTATAATCTCCAAATTGCCCGCCGTACCTCTCTGGGTCGTACGTCGTACCCTACTCTAAATCATACGCGATGCTCTTCACTGGATACCTACCCGGAAGACAAGGTCTGCGAAATCCTTGCTTTCCTCTCGGATGTATCAACCTCTCGCCGGTGACAGTATGGACTTTTTTCAATATCAGGCTCCTGTTGGATAGGTAGTAGCTAGGCGTGCTTGTTATCTCAAGCGCCCCAAGGGTAAGTTAGTTAACTCATAAAAGTGGAAGTTACGTCTCACCGGGTGCCATAAACAGGAACTATTGCACACCTTAAGTAGGATGAGAAATCGGCTGTACGAGAGCGACCCCCAGCTGACGCCGATTAGACTTACGAGAGGACGCTTCGATTTATCCTGTGGCCAAGAGAACTGAACAATGATAAGGTTTCGTATACCCCGGCATATATCAAGGAGAGGACAAACTTAGAATATGGCTGATAAGGTTTCCCTAGGGTTACTATGCCCCCGCAATAACGGCACGGCGACGTCATACACGTATTCTATGTAAACGAAGCTTCCACAAGGTTTGCCAGTATCGCAGGTCCCAACGTAGACCCCACACAGGATACGACATCGGAGCCTCTTCCGCAACGACATCAATAGTACTATCCGGCATGGATAACCCTCCATCAGGCCGATGCCTAGTACCGGTACGCGTGTTACCTACGTTGCCCTTTAGGCACCTCTTCTACGGTCGCGTGAATATCTGATCGTCTACCACAATTATTTGGGGCCTTAGGGGTCTTCACTGGATGTGGCGCCTACGCGCGACCTAAAATGGGTCCTCCACACACTCGTCCGGTCCGCGCGGTCCCTACGTCTGTAAAGGTCTTCAACGGGACCCGCAATGTGGTGGGCATACCGCGTAC\"\n",
    "d = \"GATGGAACTTGACTACGTAAATT\"\n",
    "r = s.replace('T', 'U')\n",
    "print(r)"
   ]
  },
  {
   "cell_type": "code",
   "execution_count": null,
   "metadata": {},
   "outputs": [],
   "source": [
    "s = \"CCGGAGCTGCCAACCGCGACTGATAAACCAGATCAGCAGTTCAGGGCCAGGACCATAAATCTGGTTCTGGCTTTGGCCAATCGCGCACGCGAAAGCGGACGTCGTAACGTTTGATGCGGTAGAAGCCGCTGCTTCCGTCGCGCCGAACCTGTCTTATACCACAAGGCACAATTAAAGTTTCCTGGCTAACCTCCCCTCGCACTGTGGACAGTCAGGGAGATCTTTCTGAGAGAGATCATGGCTCCTTTGCCGCCTACGTTAAATTCAAGAAATGAATTCATGGGTCCATAGCAGTGTCAGCGACCATTCATAGTCAACGCGGGGGAACGAAATACTGACGAGCAAGCTAATCGCTGTGACTCGGAATCGAGTGACCAGCACGCATGGGAGCTTAGTCTATATCTCTGGCTTGTACGGTTTTGCGCAATAGCTTGATCGTTATGTGAGGGGCTTTTATCGTTGCCTGCTCTATCATGCGTGCACAAGACTACCGGGTGTAAAGGGGGGGAGCCTTTGAGCCTGGTGTTTACTCCGGAGTCGGTGCAATGCCCCCTTTTAAAATATATGATGCATCAGCGCCGGCCGATTTCCGAAATTCGAATCCCGGTCTTGGTCAGATTTGGGAGCCTCGCGTTTCGACATGACTGGAGTGTTCCTGGCTGCGATTTAGTTTTCTGATTCTTGTACACCGTACATTTCTAGTTCGCGTGCCCAGGGCAGTTTCATCGGTCTTCCCCCAGGGTACGTTGACGCCTACTTGTGGGATCCGGTCCTACACATGGTGAAACATGTATATCCGGGACACC\"\n",
    "trans_dict = {'A':'T', 'T':'A', 'C':'G', 'G':'C'}\n",
    "trans_table = \"ATCG\".maketrans(trans_dict)\n",
    "c = s.translate(trans_table)\n",
    "\n",
    "print(c[::-1])"
   ]
  },
  {
   "cell_type": "code",
   "execution_count": null,
   "metadata": {},
   "outputs": [],
   "source": [
    "def rabbitPop(n: int, k: int, pop=1) -> int:\n",
    "    \n",
    "    #Calculate rabbit pairs after n months, increasing at k pairs.\n",
    "    \n",
    "    if n == 1 or n == 2:\n",
    "        return pop\n",
    "    return rabbitPop(n-1, k) + (rabbitPop(n-2, k) * k)\n",
    "\n",
    "print(rabbitPop(36,4))"
   ]
  },
  {
   "cell_type": "code",
   "execution_count": null,
   "metadata": {},
   "outputs": [],
   "source": [
    "\n",
    "def fib(n):\n",
    "    seq = [1] * (n)\n",
    "    seq[0] = seq[1] = 1\n",
    "    for i in range(2,n):\n",
    "        seq[i] = seq[i-1] + seq[i-2]\n",
    "    return seq\n",
    "print(fib(6))"
   ]
  },
  {
   "cell_type": "code",
   "execution_count": null,
   "metadata": {},
   "outputs": [],
   "source": [
    "with open('rosalind_gc.txt', 'r') as document:\n",
    "    dict = {}\n",
    "    large_line = document.read().replace('\\n','')\n",
    "    strings_rosalind = large_line.split(\">\")\n",
    "    for i in strings_rosalind:\n",
    "        if i :\n",
    "            dict[i[:13]] = i[13:]\n",
    "           \n",
    "    \n",
    "\n",
    "length = [1]* len(dict.keys())\n",
    "percent = [1]* len(dict.keys())\n",
    "ids = [1]* len(dict.keys())\n",
    "s = 0\n",
    "for key in dict:\n",
    "    length[s] = len(dict[key])\n",
    "    ids[s] = key\n",
    "    count = 0\n",
    "    for i in dict[key]:\n",
    "        if i == \"C\"or i == \"G\":\n",
    "            count += 1\n",
    "    percent[s] = count/length[s] *100\n",
    "    s += 1\n",
    "\n",
    "max_GC_index = percent.index(max(percent))\n",
    "print(ids[max_GC_index])\n",
    "print(max(percent))\n",
    "\n",
    "\n",
    "    \n",
    "            "
   ]
  },
  {
   "cell_type": "code",
   "execution_count": null,
   "metadata": {},
   "outputs": [],
   "source": []
  }
 ],
 "metadata": {
  "kernelspec": {
   "display_name": "Python 3",
   "language": "python",
   "name": "python3"
  },
  "language_info": {
   "codemirror_mode": {
    "name": "ipython",
    "version": 3
   },
   "file_extension": ".py",
   "mimetype": "text/x-python",
   "name": "python",
   "nbconvert_exporter": "python",
   "pygments_lexer": "ipython3",
   "version": "3.7.3"
  }
 },
 "nbformat": 4,
 "nbformat_minor": 2
}
